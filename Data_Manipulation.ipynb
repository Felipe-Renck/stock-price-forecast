{
 "cells": [
  {
   "cell_type": "code",
   "execution_count": 51,
   "metadata": {},
   "outputs": [],
   "source": [
    "import pandas as pd\n",
    "import numpy as np\n",
    "from pathlib import Path  \n"
   ]
  },
  {
   "cell_type": "code",
   "execution_count": 64,
   "metadata": {},
   "outputs": [],
   "source": [
    "df_stock_price=pd.read_csv('./data/SAP Dataset 2016-2021 - XETRA EUR.csv',na_values=['null'],index_col='Date',parse_dates=True,infer_datetime_format=True)\n",
    "df_EURO_exchange_rate=pd.read_csv('./data/EURO x BRL 2016-2021.csv',na_values=['null'],index_col='Date',parse_dates=True,infer_datetime_format=True)"
   ]
  },
  {
   "cell_type": "code",
   "execution_count": 69,
   "metadata": {},
   "outputs": [
    {
     "name": "stdout",
     "output_type": "stream",
     "text": [
      "(1268, 6)\n",
      "(1268, 6)\n"
     ]
    }
   ],
   "source": [
    "print(df_stock_price.shape)\n",
    "print(df_EURO_exchange_rate.shape)"
   ]
  },
  {
   "cell_type": "code",
   "execution_count": 48,
   "metadata": {},
   "outputs": [
    {
     "data": {
      "text/plain": [
       "set()"
      ]
     },
     "execution_count": 48,
     "metadata": {},
     "output_type": "execute_result"
    }
   ],
   "source": [
    "#Adjust dataset with same date index\n",
    "missing_dates_df1 = pd.date_range(start = '2016-11-09', end = '2021-11-09' ).difference(df_stock_price.index)\n",
    "missing_dates_df2 = pd.date_range(start = '2016-11-09', end = '2021-11-09' ).difference(df_EURO_exchange_rate.index)\n",
    "\n",
    "dates_missing = set(missing_dates_df1) - set(missing_dates_df2)\n",
    "dates_missing"
   ]
  },
  {
   "cell_type": "code",
   "execution_count": 50,
   "metadata": {},
   "outputs": [
    {
     "name": "stdout",
     "output_type": "stream",
     "text": [
      "<class 'pandas.core.frame.DataFrame'>\n",
      "DatetimeIndex: 1268 entries, 2016-11-09 to 2021-11-09\n",
      "Data columns (total 6 columns):\n",
      " #   Column     Non-Null Count  Dtype  \n",
      "---  ------     --------------  -----  \n",
      " 0   Open       1265 non-null   float64\n",
      " 1   High       1265 non-null   float64\n",
      " 2   Low        1265 non-null   float64\n",
      " 3   Close      1265 non-null   float64\n",
      " 4   Adj Close  1265 non-null   float64\n",
      " 5   Volume     1265 non-null   float64\n",
      "dtypes: float64(6)\n",
      "memory usage: 69.3 KB\n"
     ]
    },
    {
     "data": {
      "text/html": [
       "<div>\n",
       "<style scoped>\n",
       "    .dataframe tbody tr th:only-of-type {\n",
       "        vertical-align: middle;\n",
       "    }\n",
       "\n",
       "    .dataframe tbody tr th {\n",
       "        vertical-align: top;\n",
       "    }\n",
       "\n",
       "    .dataframe thead th {\n",
       "        text-align: right;\n",
       "    }\n",
       "</style>\n",
       "<table border=\"1\" class=\"dataframe\">\n",
       "  <thead>\n",
       "    <tr style=\"text-align: right;\">\n",
       "      <th></th>\n",
       "      <th>Open</th>\n",
       "      <th>High</th>\n",
       "      <th>Low</th>\n",
       "      <th>Close</th>\n",
       "      <th>Adj Close</th>\n",
       "      <th>Volume</th>\n",
       "    </tr>\n",
       "    <tr>\n",
       "      <th>Date</th>\n",
       "      <th></th>\n",
       "      <th></th>\n",
       "      <th></th>\n",
       "      <th></th>\n",
       "      <th></th>\n",
       "      <th></th>\n",
       "    </tr>\n",
       "  </thead>\n",
       "  <tbody>\n",
       "    <tr>\n",
       "      <th>2016-11-09</th>\n",
       "      <td>3.4886</td>\n",
       "      <td>3.6002</td>\n",
       "      <td>3.4796</td>\n",
       "      <td>3.4888</td>\n",
       "      <td>3.4888</td>\n",
       "      <td>0.0</td>\n",
       "    </tr>\n",
       "    <tr>\n",
       "      <th>2016-11-10</th>\n",
       "      <td>3.5269</td>\n",
       "      <td>3.6794</td>\n",
       "      <td>3.4957</td>\n",
       "      <td>3.5271</td>\n",
       "      <td>3.5271</td>\n",
       "      <td>0.0</td>\n",
       "    </tr>\n",
       "    <tr>\n",
       "      <th>2016-11-11</th>\n",
       "      <td>3.6937</td>\n",
       "      <td>3.7925</td>\n",
       "      <td>3.6774</td>\n",
       "      <td>3.6953</td>\n",
       "      <td>3.6953</td>\n",
       "      <td>0.0</td>\n",
       "    </tr>\n",
       "    <tr>\n",
       "      <th>2016-11-14</th>\n",
       "      <td>3.7238</td>\n",
       "      <td>3.7334</td>\n",
       "      <td>3.6334</td>\n",
       "      <td>3.7238</td>\n",
       "      <td>3.7238</td>\n",
       "      <td>0.0</td>\n",
       "    </tr>\n",
       "    <tr>\n",
       "      <th>2016-11-15</th>\n",
       "      <td>3.6935</td>\n",
       "      <td>3.7144</td>\n",
       "      <td>3.6824</td>\n",
       "      <td>3.6956</td>\n",
       "      <td>3.6956</td>\n",
       "      <td>0.0</td>\n",
       "    </tr>\n",
       "  </tbody>\n",
       "</table>\n",
       "</div>"
      ],
      "text/plain": [
       "              Open    High     Low   Close  Adj Close  Volume\n",
       "Date                                                         \n",
       "2016-11-09  3.4886  3.6002  3.4796  3.4888     3.4888     0.0\n",
       "2016-11-10  3.5269  3.6794  3.4957  3.5271     3.5271     0.0\n",
       "2016-11-11  3.6937  3.7925  3.6774  3.6953     3.6953     0.0\n",
       "2016-11-14  3.7238  3.7334  3.6334  3.7238     3.7238     0.0\n",
       "2016-11-15  3.6935  3.7144  3.6824  3.6956     3.6956     0.0"
      ]
     },
     "execution_count": 50,
     "metadata": {},
     "output_type": "execute_result"
    }
   ],
   "source": [
    "df_EURO_exchange_rate = df_EURO_exchange_rate.drop(dates_missing)\n",
    "df_EURO_exchange_rate.info()\n",
    "df_EURO_exchange_rate.head()"
   ]
  },
  {
   "cell_type": "code",
   "execution_count": 49,
   "metadata": {},
   "outputs": [
    {
     "name": "stdout",
     "output_type": "stream",
     "text": [
      "<class 'pandas.core.frame.DataFrame'>\n",
      "DatetimeIndex: 1268 entries, 2016-11-09 to 2021-11-09\n",
      "Data columns (total 6 columns):\n",
      " #   Column     Non-Null Count  Dtype  \n",
      "---  ------     --------------  -----  \n",
      " 0   Open       1268 non-null   float64\n",
      " 1   High       1268 non-null   float64\n",
      " 2   Low        1268 non-null   float64\n",
      " 3   Close      1268 non-null   float64\n",
      " 4   Adj Close  1268 non-null   float64\n",
      " 5   Volume     1268 non-null   int64  \n",
      "dtypes: float64(5), int64(1)\n",
      "memory usage: 69.3 KB\n"
     ]
    },
    {
     "data": {
      "text/html": [
       "<div>\n",
       "<style scoped>\n",
       "    .dataframe tbody tr th:only-of-type {\n",
       "        vertical-align: middle;\n",
       "    }\n",
       "\n",
       "    .dataframe tbody tr th {\n",
       "        vertical-align: top;\n",
       "    }\n",
       "\n",
       "    .dataframe thead th {\n",
       "        text-align: right;\n",
       "    }\n",
       "</style>\n",
       "<table border=\"1\" class=\"dataframe\">\n",
       "  <thead>\n",
       "    <tr style=\"text-align: right;\">\n",
       "      <th></th>\n",
       "      <th>Open</th>\n",
       "      <th>High</th>\n",
       "      <th>Low</th>\n",
       "      <th>Close</th>\n",
       "      <th>Adj Close</th>\n",
       "      <th>Volume</th>\n",
       "    </tr>\n",
       "    <tr>\n",
       "      <th>Date</th>\n",
       "      <th></th>\n",
       "      <th></th>\n",
       "      <th></th>\n",
       "      <th></th>\n",
       "      <th></th>\n",
       "      <th></th>\n",
       "    </tr>\n",
       "  </thead>\n",
       "  <tbody>\n",
       "    <tr>\n",
       "      <th>2016-11-09</th>\n",
       "      <td>76.449997</td>\n",
       "      <td>78.529999</td>\n",
       "      <td>75.500000</td>\n",
       "      <td>78.529999</td>\n",
       "      <td>71.981300</td>\n",
       "      <td>4242667</td>\n",
       "    </tr>\n",
       "    <tr>\n",
       "      <th>2016-11-10</th>\n",
       "      <td>79.070000</td>\n",
       "      <td>79.199997</td>\n",
       "      <td>76.889999</td>\n",
       "      <td>77.379997</td>\n",
       "      <td>70.927216</td>\n",
       "      <td>3303639</td>\n",
       "    </tr>\n",
       "    <tr>\n",
       "      <th>2016-11-11</th>\n",
       "      <td>77.680000</td>\n",
       "      <td>77.989998</td>\n",
       "      <td>75.629997</td>\n",
       "      <td>76.449997</td>\n",
       "      <td>70.074760</td>\n",
       "      <td>3323169</td>\n",
       "    </tr>\n",
       "    <tr>\n",
       "      <th>2016-11-14</th>\n",
       "      <td>77.089996</td>\n",
       "      <td>77.110001</td>\n",
       "      <td>75.559998</td>\n",
       "      <td>75.839996</td>\n",
       "      <td>69.515625</td>\n",
       "      <td>2721927</td>\n",
       "    </tr>\n",
       "    <tr>\n",
       "      <th>2016-11-15</th>\n",
       "      <td>76.239998</td>\n",
       "      <td>76.279999</td>\n",
       "      <td>75.070000</td>\n",
       "      <td>75.970001</td>\n",
       "      <td>69.634789</td>\n",
       "      <td>2433644</td>\n",
       "    </tr>\n",
       "  </tbody>\n",
       "</table>\n",
       "</div>"
      ],
      "text/plain": [
       "                 Open       High        Low      Close  Adj Close   Volume\n",
       "Date                                                                      \n",
       "2016-11-09  76.449997  78.529999  75.500000  78.529999  71.981300  4242667\n",
       "2016-11-10  79.070000  79.199997  76.889999  77.379997  70.927216  3303639\n",
       "2016-11-11  77.680000  77.989998  75.629997  76.449997  70.074760  3323169\n",
       "2016-11-14  77.089996  77.110001  75.559998  75.839996  69.515625  2721927\n",
       "2016-11-15  76.239998  76.279999  75.070000  75.970001  69.634789  2433644"
      ]
     },
     "execution_count": 49,
     "metadata": {},
     "output_type": "execute_result"
    }
   ],
   "source": [
    "df_stock_price.info()\n",
    "df_stock_price.head()"
   ]
  },
  {
   "cell_type": "code",
   "execution_count": 52,
   "metadata": {},
   "outputs": [],
   "source": [
    "filepath = Path('./data/EURO x BRL 2016-2021.csv') \n",
    "df_EURO_exchange_rate.to_csv(filepath)"
   ]
  },
  {
   "cell_type": "code",
   "execution_count": 62,
   "metadata": {},
   "outputs": [
    {
     "name": "stdout",
     "output_type": "stream",
     "text": [
      "<class 'pandas.core.frame.DataFrame'>\n",
      "DatetimeIndex: 1268 entries, 2016-11-09 to 2021-11-09\n",
      "Data columns (total 3 columns):\n",
      " #   Column           Non-Null Count  Dtype  \n",
      "---  ------           --------------  -----  \n",
      " 0   Close_Stock      1268 non-null   float64\n",
      " 1   Close_EUR        1265 non-null   float64\n",
      " 2   Close_Stock_BRL  1265 non-null   float64\n",
      "dtypes: float64(3)\n",
      "memory usage: 39.6 KB\n"
     ]
    },
    {
     "data": {
      "text/html": [
       "<div>\n",
       "<style scoped>\n",
       "    .dataframe tbody tr th:only-of-type {\n",
       "        vertical-align: middle;\n",
       "    }\n",
       "\n",
       "    .dataframe tbody tr th {\n",
       "        vertical-align: top;\n",
       "    }\n",
       "\n",
       "    .dataframe thead th {\n",
       "        text-align: right;\n",
       "    }\n",
       "</style>\n",
       "<table border=\"1\" class=\"dataframe\">\n",
       "  <thead>\n",
       "    <tr style=\"text-align: right;\">\n",
       "      <th></th>\n",
       "      <th>Close_Stock</th>\n",
       "      <th>Close_EUR</th>\n",
       "      <th>Close_Stock_BRL</th>\n",
       "    </tr>\n",
       "    <tr>\n",
       "      <th>Date</th>\n",
       "      <th></th>\n",
       "      <th></th>\n",
       "      <th></th>\n",
       "    </tr>\n",
       "  </thead>\n",
       "  <tbody>\n",
       "    <tr>\n",
       "      <th>2016-11-09</th>\n",
       "      <td>78.529999</td>\n",
       "      <td>3.4888</td>\n",
       "      <td>273.975461</td>\n",
       "    </tr>\n",
       "    <tr>\n",
       "      <th>2016-11-10</th>\n",
       "      <td>77.379997</td>\n",
       "      <td>3.5271</td>\n",
       "      <td>272.926987</td>\n",
       "    </tr>\n",
       "    <tr>\n",
       "      <th>2016-11-11</th>\n",
       "      <td>76.449997</td>\n",
       "      <td>3.6953</td>\n",
       "      <td>282.505674</td>\n",
       "    </tr>\n",
       "    <tr>\n",
       "      <th>2016-11-14</th>\n",
       "      <td>75.839996</td>\n",
       "      <td>3.7238</td>\n",
       "      <td>282.412977</td>\n",
       "    </tr>\n",
       "    <tr>\n",
       "      <th>2016-11-15</th>\n",
       "      <td>75.970001</td>\n",
       "      <td>3.6956</td>\n",
       "      <td>280.754736</td>\n",
       "    </tr>\n",
       "  </tbody>\n",
       "</table>\n",
       "</div>"
      ],
      "text/plain": [
       "            Close_Stock  Close_EUR  Close_Stock_BRL\n",
       "Date                                               \n",
       "2016-11-09    78.529999     3.4888       273.975461\n",
       "2016-11-10    77.379997     3.5271       272.926987\n",
       "2016-11-11    76.449997     3.6953       282.505674\n",
       "2016-11-14    75.839996     3.7238       282.412977\n",
       "2016-11-15    75.970001     3.6956       280.754736"
      ]
     },
     "execution_count": 62,
     "metadata": {},
     "output_type": "execute_result"
    }
   ],
   "source": [
    "merged_dataframe = pd.merge(df_stock_price[\"Close\"], df_EURO_exchange_rate[\"Close\"], on=[\"Date\"])\n",
    "\n",
    "merged_dataframe.columns = ['Close_Stock', 'Close_EUR']\n",
    "merged_dataframe[\"Close_Stock_BRL\"] = merged_dataframe[\"Close_Stock\"] * merged_dataframe[\"Close_EUR\"]\n",
    "\n",
    "merged_dataframe.info()\n",
    "merged_dataframe.head()"
   ]
  },
  {
   "cell_type": "code",
   "execution_count": 71,
   "metadata": {},
   "outputs": [],
   "source": [
    "merged_dataframe.dropna()\n",
    "filepath = Path('./data/Stock Price EURO x BRL 2016-2021.csv') \n",
    "merged_dataframe.to_csv(filepath)"
   ]
  }
 ],
 "metadata": {
  "interpreter": {
   "hash": "fce4f766b3eaa8bacb129fce948a465251d78737684a38777ffceca0249b2ab0"
  },
  "kernelspec": {
   "display_name": "Python 3.9.10 64-bit (windows store)",
   "language": "python",
   "name": "python3"
  },
  "language_info": {
   "codemirror_mode": {
    "name": "ipython",
    "version": 3
   },
   "file_extension": ".py",
   "mimetype": "text/x-python",
   "name": "python",
   "nbconvert_exporter": "python",
   "pygments_lexer": "ipython3",
   "version": "3.9.10"
  },
  "orig_nbformat": 4
 },
 "nbformat": 4,
 "nbformat_minor": 2
}
