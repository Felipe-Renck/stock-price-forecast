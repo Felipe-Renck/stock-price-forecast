{
 "cells": [
  {
   "cell_type": "code",
   "execution_count": 1,
   "metadata": {},
   "outputs": [],
   "source": [
    "import pandas as pd\n",
    "import numpy as np\n",
    "from pathlib import Path  \n",
    "import matplotlib.pyplot as plt"
   ]
  },
  {
   "cell_type": "code",
   "execution_count": 48,
   "metadata": {},
   "outputs": [],
   "source": [
    "df_stock_price=pd.read_csv('./data/[ADJUSTED] SAP Dataset 2016-2021 - XETRA EUR.csv',na_values=['null'],index_col='Date',parse_dates=True,infer_datetime_format=True)\n",
    "df_EURO_exchange_rate=pd.read_csv('./data/[ADJUSTED] EURO x BRL 2016-2021.csv',na_values=['null'],index_col='Date',parse_dates=True,infer_datetime_format=True)"
   ]
  },
  {
   "cell_type": "code",
   "execution_count": 49,
   "metadata": {},
   "outputs": [
    {
     "name": "stdout",
     "output_type": "stream",
     "text": [
      "(1519, 6)\n",
      "(1519, 6)\n"
     ]
    }
   ],
   "source": [
    "print(df_stock_price.shape)\n",
    "print(df_EURO_exchange_rate.shape)"
   ]
  },
  {
   "cell_type": "code",
   "execution_count": 42,
   "metadata": {},
   "outputs": [
    {
     "data": {
      "text/plain": [
       "44"
      ]
     },
     "execution_count": 42,
     "metadata": {},
     "output_type": "execute_result"
    }
   ],
   "source": [
    "#Adjust dataset with same date index\n",
    "missing_dates_df1 = pd.date_range(start = '2016-01-01', end = '2021-12-31' ).difference(df_stock_price.index)\n",
    "missing_dates_df2 = pd.date_range(start = '2016-01-01', end = '2021-12-31' ).difference(df_EURO_exchange_rate.index)\n",
    "\n",
    "dates_missing1 = set(missing_dates_df1) - set(missing_dates_df2)\n",
    "dates_missing2 = set(missing_dates_df2) - set(missing_dates_df1)\n",
    "len(dates_missing1)"
   ]
  },
  {
   "cell_type": "code",
   "execution_count": 43,
   "metadata": {},
   "outputs": [
    {
     "data": {
      "text/plain": [
       "3"
      ]
     },
     "execution_count": 43,
     "metadata": {},
     "output_type": "execute_result"
    }
   ],
   "source": [
    "len(dates_missing2)"
   ]
  },
  {
   "cell_type": "code",
   "execution_count": 44,
   "metadata": {},
   "outputs": [
    {
     "name": "stdout",
     "output_type": "stream",
     "text": [
      "<class 'pandas.core.frame.DataFrame'>\n",
      "DatetimeIndex: 1519 entries, 2016-01-04 to 2021-12-30\n",
      "Data columns (total 6 columns):\n",
      " #   Column     Non-Null Count  Dtype  \n",
      "---  ------     --------------  -----  \n",
      " 0   Open       1519 non-null   float64\n",
      " 1   High       1519 non-null   float64\n",
      " 2   Low        1519 non-null   float64\n",
      " 3   Close      1519 non-null   float64\n",
      " 4   Adj Close  1519 non-null   float64\n",
      " 5   Volume     1519 non-null   float64\n",
      "dtypes: float64(6)\n",
      "memory usage: 83.1 KB\n"
     ]
    }
   ],
   "source": [
    "df_EURO_exchange_rate = df_EURO_exchange_rate.drop(dates_missing1)\n",
    "df_EURO_exchange_rate.info()"
   ]
  },
  {
   "cell_type": "code",
   "execution_count": 45,
   "metadata": {},
   "outputs": [
    {
     "name": "stdout",
     "output_type": "stream",
     "text": [
      "<class 'pandas.core.frame.DataFrame'>\n",
      "DatetimeIndex: 1519 entries, 2016-01-04 to 2021-12-30\n",
      "Data columns (total 6 columns):\n",
      " #   Column     Non-Null Count  Dtype  \n",
      "---  ------     --------------  -----  \n",
      " 0   Open       1519 non-null   float64\n",
      " 1   High       1519 non-null   float64\n",
      " 2   Low        1519 non-null   float64\n",
      " 3   Close      1519 non-null   float64\n",
      " 4   Adj Close  1519 non-null   float64\n",
      " 5   Volume     1519 non-null   int64  \n",
      "dtypes: float64(5), int64(1)\n",
      "memory usage: 83.1 KB\n"
     ]
    }
   ],
   "source": [
    "df_stock_price = df_stock_price.drop(dates_missing2)\n",
    "df_stock_price.info()"
   ]
  },
  {
   "cell_type": "code",
   "execution_count": 46,
   "metadata": {},
   "outputs": [],
   "source": [
    "filepath = Path('./data/[ADJUSTED] SAP Dataset 2016-2021 - XETRA EUR.csv') \n",
    "df_stock_price.to_csv(filepath)"
   ]
  },
  {
   "cell_type": "code",
   "execution_count": 47,
   "metadata": {},
   "outputs": [],
   "source": [
    "filepath = Path('./data/[ADJUSTED] EURO x BRL 2016-2021.csv') \n",
    "df_EURO_exchange_rate.to_csv(filepath)"
   ]
  },
  {
   "cell_type": "code",
   "execution_count": 9,
   "metadata": {},
   "outputs": [
    {
     "name": "stdout",
     "output_type": "stream",
     "text": [
      "<class 'pandas.core.frame.DataFrame'>\n",
      "DatetimeIndex: 1268 entries, 2016-11-09 to 2021-11-09\n",
      "Data columns (total 3 columns):\n",
      " #   Column           Non-Null Count  Dtype  \n",
      "---  ------           --------------  -----  \n",
      " 0   Close_Stock      1268 non-null   float64\n",
      " 1   Close_EUR        1265 non-null   float64\n",
      " 2   Close_Stock_BRL  1265 non-null   float64\n",
      "dtypes: float64(3)\n",
      "memory usage: 39.6 KB\n"
     ]
    },
    {
     "data": {
      "text/html": [
       "<div>\n",
       "<style scoped>\n",
       "    .dataframe tbody tr th:only-of-type {\n",
       "        vertical-align: middle;\n",
       "    }\n",
       "\n",
       "    .dataframe tbody tr th {\n",
       "        vertical-align: top;\n",
       "    }\n",
       "\n",
       "    .dataframe thead th {\n",
       "        text-align: right;\n",
       "    }\n",
       "</style>\n",
       "<table border=\"1\" class=\"dataframe\">\n",
       "  <thead>\n",
       "    <tr style=\"text-align: right;\">\n",
       "      <th></th>\n",
       "      <th>Close_Stock</th>\n",
       "      <th>Close_EUR</th>\n",
       "      <th>Close_Stock_BRL</th>\n",
       "    </tr>\n",
       "    <tr>\n",
       "      <th>Date</th>\n",
       "      <th></th>\n",
       "      <th></th>\n",
       "      <th></th>\n",
       "    </tr>\n",
       "  </thead>\n",
       "  <tbody>\n",
       "    <tr>\n",
       "      <th>2016-11-09</th>\n",
       "      <td>78.529999</td>\n",
       "      <td>3.4888</td>\n",
       "      <td>273.975461</td>\n",
       "    </tr>\n",
       "    <tr>\n",
       "      <th>2016-11-10</th>\n",
       "      <td>77.379997</td>\n",
       "      <td>3.5271</td>\n",
       "      <td>272.926987</td>\n",
       "    </tr>\n",
       "    <tr>\n",
       "      <th>2016-11-11</th>\n",
       "      <td>76.449997</td>\n",
       "      <td>3.6953</td>\n",
       "      <td>282.505674</td>\n",
       "    </tr>\n",
       "    <tr>\n",
       "      <th>2016-11-14</th>\n",
       "      <td>75.839996</td>\n",
       "      <td>3.7238</td>\n",
       "      <td>282.412977</td>\n",
       "    </tr>\n",
       "    <tr>\n",
       "      <th>2016-11-15</th>\n",
       "      <td>75.970001</td>\n",
       "      <td>3.6956</td>\n",
       "      <td>280.754736</td>\n",
       "    </tr>\n",
       "  </tbody>\n",
       "</table>\n",
       "</div>"
      ],
      "text/plain": [
       "            Close_Stock  Close_EUR  Close_Stock_BRL\n",
       "Date                                               \n",
       "2016-11-09    78.529999     3.4888       273.975461\n",
       "2016-11-10    77.379997     3.5271       272.926987\n",
       "2016-11-11    76.449997     3.6953       282.505674\n",
       "2016-11-14    75.839996     3.7238       282.412977\n",
       "2016-11-15    75.970001     3.6956       280.754736"
      ]
     },
     "execution_count": 9,
     "metadata": {},
     "output_type": "execute_result"
    }
   ],
   "source": [
    "merged_dataframe = pd.merge(df_stock_price[\"Close\"], df_EURO_exchange_rate[\"Close\"], on=[\"Date\"])\n",
    "\n",
    "merged_dataframe.columns = ['Close_Stock', 'Close_EUR']\n",
    "merged_dataframe[\"Close_Stock_BRL\"] = merged_dataframe[\"Close_Stock\"] * merged_dataframe[\"Close_EUR\"]\n",
    "\n",
    "merged_dataframe.info()\n",
    "merged_dataframe.head()"
   ]
  },
  {
   "cell_type": "code",
   "execution_count": 10,
   "metadata": {},
   "outputs": [],
   "source": [
    "merged_dataframe.dropna()\n",
    "filepath = Path('./data/Stock Price EURO x BRL 2016-2021.csv') \n",
    "merged_dataframe.to_csv(filepath)"
   ]
  },
  {
   "cell_type": "code",
   "execution_count": 11,
   "metadata": {},
   "outputs": [
    {
     "data": {
      "image/png": "[encoded data removed]",
      "text/plain": [
       "<Figure size 432x288 with 1 Axes>"
      ]
     },
     "metadata": {
      "needs_background": "light"
     },
     "output_type": "display_data"
    }
   ],
   "source": [
    "ax = plt.gca()\n",
    "\n",
    "merged_dataframe.plot(kind='line',y='Close_Stock',ax=ax)\n",
    "merged_dataframe.plot(kind='line',y='Close_EUR', ax=ax)\n",
    "merged_dataframe.plot(kind='line',y='Close_Stock_BRL', ax=ax)\n",
    "\n",
    "plt.show()"
   ]
  }
 ],
 "metadata": {
  "interpreter": {
   "hash": "fce4f766b3eaa8bacb129fce948a465251d78737684a38777ffceca0249b2ab0"
  },
  "kernelspec": {
   "display_name": "Python 3.9.10 64-bit (windows store)",
   "language": "python",
   "name": "python3"
  },
  "language_info": {
   "codemirror_mode": {
    "name": "ipython",
    "version": 3
   },
   "file_extension": ".py",
   "mimetype": "text/x-python",
   "name": "python",
   "nbconvert_exporter": "python",
   "pygments_lexer": "ipython3",
   "version": "3.9.10"
  },
  "orig_nbformat": 4
 },
 "nbformat": 4,
 "nbformat_minor": 2
}
