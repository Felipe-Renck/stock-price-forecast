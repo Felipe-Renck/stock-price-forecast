{
 "cells": [
  {
   "cell_type": "code",
   "execution_count": 11,
   "metadata": {},
   "outputs": [],
   "source": [
    "import pmdarima as pm\n",
    "import pandas as pd\n",
    "import numpy as np\n",
    "import matplotlib.pyplot as plt"
   ]
  },
  {
   "cell_type": "code",
   "execution_count": 12,
   "metadata": {},
   "outputs": [],
   "source": [
    "# reading the data\n",
    "df = pd.read_csv('./data/SAP Dataset 2016-2021 - XETRA EUR.csv')\n",
    "data = df.sort_index(ascending=True, axis=0)\n",
    "\n",
    "train = data[:1014]\n",
    "valid = data[1014:]"
   ]
  },
  {
   "cell_type": "code",
   "execution_count": 13,
   "metadata": {},
   "outputs": [
    {
     "name": "stdout",
     "output_type": "stream",
     "text": [
      "Performing stepwise search to minimize aic\n",
      " ARIMA(1,1,1)(0,1,1)[12]             : AIC=inf, Time=1.58 sec\n",
      " ARIMA(0,1,0)(0,1,0)[12]             : AIC=4635.920, Time=0.13 sec\n",
      " ARIMA(1,1,0)(1,1,0)[12]             : AIC=4442.937, Time=0.39 sec\n",
      " ARIMA(0,1,1)(0,1,1)[12]             : AIC=inf, Time=1.31 sec\n",
      " ARIMA(1,1,0)(0,1,0)[12]             : AIC=4633.551, Time=0.18 sec\n",
      " ARIMA(1,1,0)(2,1,0)[12]             : AIC=4304.514, Time=0.91 sec\n",
      " ARIMA(1,1,0)(2,1,1)[12]             : AIC=inf, Time=3.46 sec\n",
      " ARIMA(1,1,0)(1,1,1)[12]             : AIC=inf, Time=1.14 sec\n",
      " ARIMA(0,1,0)(2,1,0)[12]             : AIC=4309.134, Time=0.52 sec\n",
      " ARIMA(2,1,0)(2,1,0)[12]             : AIC=4304.979, Time=0.93 sec\n",
      " ARIMA(1,1,1)(2,1,0)[12]             : AIC=4305.789, Time=1.15 sec\n",
      " ARIMA(0,1,1)(2,1,0)[12]             : AIC=4305.070, Time=0.66 sec\n",
      " ARIMA(2,1,1)(2,1,0)[12]             : AIC=4304.287, Time=1.62 sec\n",
      " ARIMA(2,1,1)(1,1,0)[12]             : AIC=4443.475, Time=0.73 sec\n",
      " ARIMA(2,1,1)(2,1,1)[12]             : AIC=inf, Time=6.85 sec\n",
      " ARIMA(2,1,1)(1,1,1)[12]             : AIC=inf, Time=2.40 sec\n",
      " ARIMA(3,1,1)(2,1,0)[12]             : AIC=4305.195, Time=1.99 sec\n",
      " ARIMA(2,1,2)(2,1,0)[12]             : AIC=inf, Time=14.30 sec\n",
      " ARIMA(1,1,2)(2,1,0)[12]             : AIC=4303.299, Time=2.58 sec\n",
      " ARIMA(1,1,2)(1,1,0)[12]             : AIC=4442.770, Time=0.72 sec\n",
      " ARIMA(1,1,2)(2,1,1)[12]             : AIC=inf, Time=7.46 sec\n",
      " ARIMA(1,1,2)(1,1,1)[12]             : AIC=inf, Time=1.99 sec\n",
      " ARIMA(0,1,2)(2,1,0)[12]             : AIC=4304.525, Time=0.80 sec\n",
      " ARIMA(1,1,3)(2,1,0)[12]             : AIC=4304.139, Time=2.76 sec\n",
      " ARIMA(0,1,3)(2,1,0)[12]             : AIC=4304.188, Time=1.12 sec\n",
      " ARIMA(2,1,3)(2,1,0)[12]             : AIC=inf, Time=9.24 sec\n",
      " ARIMA(1,1,2)(2,1,0)[12] intercept   : AIC=4305.055, Time=4.32 sec\n",
      "\n",
      "Best model:  ARIMA(1,1,2)(2,1,0)[12]          \n",
      "Total fit time: 71.253 seconds\n"
     ]
    }
   ],
   "source": [
    "training = train['Close']\n",
    "validation = valid['Close']\n",
    "\n",
    "model = pm.auto_arima(training, start_p=1, start_q=1,max_p=3, max_q=3, m=12,start_P=0, seasonal=True,d=1, D=1, trace=True,error_action='ignore',suppress_warnings=True)\n",
    "model.fit(training)\n",
    "\n",
    "forecast = model.predict(n_periods=253)\n",
    "forecast = pd.DataFrame(forecast,index = valid.index,columns=['Prediction'])\n"
   ]
  },
  {
   "cell_type": "code",
   "execution_count": 17,
   "metadata": {},
   "outputs": [
    {
     "data": {
      "text/plain": [
       "203.84827725795853"
      ]
     },
     "execution_count": 17,
     "metadata": {},
     "output_type": "execute_result"
    }
   ],
   "source": [
    "rms=np.sqrt(np.mean(np.power((np.array(valid['Close'])-np.array(forecast['Prediction'])),2)))\n",
    "rms"
   ]
  },
  {
   "cell_type": "code",
   "execution_count": 15,
   "metadata": {},
   "outputs": [
    {
     "data": {
      "text/plain": [
       "[<matplotlib.lines.Line2D at 0x18175efa1f0>]"
      ]
     },
     "execution_count": 15,
     "metadata": {},
     "output_type": "execute_result"
    },
    {
     "data": {
      "image/png": "[encoded data removed]",
      "text/plain": [
       "<Figure size 432x288 with 1 Axes>"
      ]
     },
     "metadata": {
      "needs_background": "light"
     },
     "output_type": "display_data"
    }
   ],
   "source": [
    "#plot\n",
    "plt.plot(train['Close'])\n",
    "plt.plot(valid['Close'])\n",
    "plt.plot(forecast['Prediction'])"
   ]
  }
 ],
 "metadata": {
  "interpreter": {
   "hash": "b3ba2566441a7c06988d0923437866b63cedc61552a5af99d1f4fb67d367b25f"
  },
  "kernelspec": {
   "display_name": "Python 3.9.7 64-bit ('base': conda)",
   "language": "python",
   "name": "python3"
  },
  "language_info": {
   "codemirror_mode": {
    "name": "ipython",
    "version": 3
   },
   "file_extension": ".py",
   "mimetype": "text/x-python",
   "name": "python",
   "nbconvert_exporter": "python",
   "pygments_lexer": "ipython3",
   "version": "3.9.7"
  },
  "orig_nbformat": 4
 },
 "nbformat": 4,
 "nbformat_minor": 2
}
