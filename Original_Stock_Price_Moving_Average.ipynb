{
 "cells": [
  {
   "cell_type": "code",
   "execution_count": 2,
   "metadata": {},
   "outputs": [],
   "source": [
    "# importing libraries\n",
    "import pandas as pd\n",
    "import numpy as np"
   ]
  },
  {
   "cell_type": "code",
   "execution_count": 3,
   "metadata": {},
   "outputs": [
    {
     "name": "stdout",
     "output_type": "stream",
     "text": [
      "         Date    Open    High     Low    Last   Close  Total Trade Quantity  \\\n",
      "0  2018-10-08  208.00  222.25  206.85  216.00  215.15             4642146.0   \n",
      "1  2018-10-05  217.00  218.60  205.90  210.25  209.20             3519515.0   \n",
      "2  2018-10-04  223.50  227.80  216.15  217.25  218.20             1728786.0   \n",
      "3  2018-10-03  230.00  237.50  225.75  226.45  227.60             1708590.0   \n",
      "4  2018-10-01  234.55  234.60  221.05  230.30  230.90             1534749.0   \n",
      "\n",
      "   Turnover (Lacs)  \n",
      "0         10062.83  \n",
      "1          7407.06  \n",
      "2          3815.79  \n",
      "3          3960.27  \n",
      "4          3486.05  \n",
      "\n",
      " Shape of the data:\n",
      "(1235, 8)\n"
     ]
    }
   ],
   "source": [
    "# reading the data\n",
    "df = pd.read_csv('./data/NSE-TATAGLOBAL11.csv')\n",
    "\n",
    "# looking at the first five rows of the data\n",
    "print(df.head())\n",
    "print('\\n Shape of the data:')\n",
    "print(df.shape)\n"
   ]
  },
  {
   "cell_type": "code",
   "execution_count": 4,
   "metadata": {},
   "outputs": [
    {
     "name": "stdout",
     "output_type": "stream",
     "text": [
      "\n",
      " Shape of training set:\n",
      "(987, 2)\n",
      "                  Date   Close\n",
      "0  2013-10-08 00:00:00   155.8\n",
      "1  2013-10-09 00:00:00  155.55\n",
      "2  2013-10-10 00:00:00  160.15\n",
      "3  2013-10-11 00:00:00  160.05\n",
      "4  2013-10-14 00:00:00  159.45\n",
      "\n",
      " Shape of validation set:\n",
      "(248, 2)\n",
      "                    Date   Close\n",
      "987  2017-10-09 00:00:00   208.3\n",
      "988  2017-10-10 00:00:00  208.45\n",
      "989  2017-10-11 00:00:00   209.4\n",
      "990  2017-10-12 00:00:00   212.0\n",
      "991  2017-10-13 00:00:00  210.25\n"
     ]
    }
   ],
   "source": [
    "# setting the index as date\n",
    "df['Date'] = pd.to_datetime(df.Date,format='%Y-%m-%d')\n",
    "df.index = df['Date']\n",
    "\n",
    "#creating dataframe with date and the target variable\n",
    "data = df.sort_index(ascending=True, axis=0)\n",
    "new_data = pd.DataFrame(index=range(0,len(df)),columns=['Date', 'Close'])\n",
    "\n",
    "for i in range(0,len(data)):\n",
    "     new_data['Date'][i] = data['Date'][i]\n",
    "     new_data['Close'][i] = data['Close'][i]\n",
    "\n",
    "# NOTE: While splitting the data into train and validation set, we cannot use random splitting since that will destroy the time component. So here we have set the last year’s data into validation and the 4 years’ data before that into train set.\n",
    "\n",
    "# splitting into train and validation (80% / 20%)\n",
    "train = new_data[:987]\n",
    "valid = new_data[987:]\n",
    "\n",
    "# shapes of training set\n",
    "print('\\n Shape of training set:')\n",
    "print(train.shape)\n",
    "print(train.head())\n",
    "\n",
    "# shapes of validation set\n",
    "print('\\n Shape of validation set:')\n",
    "print(valid.shape)\n",
    "print(valid.head())\n",
    "\n"
   ]
  },
  {
   "cell_type": "code",
   "execution_count": 5,
   "metadata": {},
   "outputs": [
    {
     "name": "stdout",
     "output_type": "stream",
     "text": [
      "\n",
      " RMSE value on validation set:\n",
      "104.51415465984348\n"
     ]
    }
   ],
   "source": [
    "# In the next step, we will create predictions for the validation set and check the RMSE using the actual values.\n",
    "# making predictions\n",
    "preds = []\n",
    "for i in range(0,valid.shape[0]):\n",
    "    a = train['Close'][len(train)-248+i:].sum() + sum(preds)\n",
    "    b = a/248\n",
    "    preds.append(b)\n",
    "\n",
    "# checking the results (RMSE value)\n",
    "rms=np.sqrt(np.mean(np.power((np.array(valid['Close'])-preds),2)))\n",
    "print('\\n RMSE value on validation set:')\n",
    "print(rms)"
   ]
  }
 ],
 "metadata": {
  "interpreter": {
   "hash": "cf0f850862d61844e277c446613adc741a154d123c46898264e7a59dea891c36"
  },
  "kernelspec": {
   "display_name": "Python 3.9.7 64-bit ('mllab-build': conda)",
   "language": "python",
   "name": "python3"
  },
  "language_info": {
   "codemirror_mode": {
    "name": "ipython",
    "version": 3
   },
   "file_extension": ".py",
   "mimetype": "text/x-python",
   "name": "python",
   "nbconvert_exporter": "python",
   "pygments_lexer": "ipython3",
   "version": "3.9.7"
  },
  "orig_nbformat": 4
 },
 "nbformat": 4,
 "nbformat_minor": 2
}
