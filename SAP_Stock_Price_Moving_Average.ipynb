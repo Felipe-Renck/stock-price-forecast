{
 "cells": [
  {
   "cell_type": "code",
   "execution_count": 19,
   "metadata": {},
   "outputs": [],
   "source": [
    "# importing libraries\n",
    "import pandas as pd\n",
    "import numpy as np"
   ]
  },
  {
   "cell_type": "code",
   "execution_count": 20,
   "metadata": {},
   "outputs": [
    {
     "name": "stdout",
     "output_type": "stream",
     "text": [
      "         Date       Open       High        Low      Close  Adj Close   Volume\n",
      "0  2016-11-09  76.449997  78.529999  75.500000  78.529999  71.981308  4242667\n",
      "1  2016-11-10  79.070000  79.199997  76.889999  77.379997  70.927216  3303639\n",
      "2  2016-11-11  77.680000  77.989998  75.629997  76.449997  70.074768  3323169\n",
      "3  2016-11-14  77.089996  77.110001  75.559998  75.839996  69.515633  2721927\n",
      "4  2016-11-15  76.239998  76.279999  75.070000  75.970001  69.634796  2433644\n",
      "\n",
      " Shape of the data:\n",
      "(1267, 7)\n"
     ]
    }
   ],
   "source": [
    "# reading the data\n",
    "df = pd.read_csv('./data/SAP Dataset 2016-2021 - XETRA EUR.csv')\n",
    "\n",
    "# looking at the first five rows of the data\n",
    "print(df.head())\n",
    "print('\\n Shape of the data:')\n",
    "print(df.shape)\n"
   ]
  },
  {
   "cell_type": "code",
   "execution_count": 21,
   "metadata": {},
   "outputs": [
    {
     "name": "stdout",
     "output_type": "stream",
     "text": [
      "\n",
      " Shape of training set:\n",
      "(1014, 2)\n",
      "                  Date      Close\n",
      "0  2016-11-09 00:00:00  78.529999\n",
      "1  2016-11-10 00:00:00  77.379997\n",
      "2  2016-11-11 00:00:00  76.449997\n",
      "3  2016-11-14 00:00:00  75.839996\n",
      "4  2016-11-15 00:00:00  75.970001\n",
      "\n",
      " Shape of validation set:\n",
      "(253, 2)\n",
      "                     Date       Close\n",
      "1014  2020-11-10 00:00:00   99.089996\n",
      "1015  2020-11-11 00:00:00  101.519997\n",
      "1016  2020-11-12 00:00:00  100.279999\n",
      "1017  2020-11-13 00:00:00  101.220001\n",
      "1018  2020-11-16 00:00:00  100.279999\n"
     ]
    }
   ],
   "source": [
    "# setting the index as date\n",
    "df['Date'] = pd.to_datetime(df.Date,format='%Y-%m-%d')\n",
    "df.index = df['Date']\n",
    "\n",
    "#creating dataframe with date and the target variable\n",
    "data = df.sort_index(ascending=True, axis=0)\n",
    "new_data = pd.DataFrame(index=range(0,len(df)),columns=['Date', 'Close'])\n",
    "\n",
    "for i in range(0,len(data)):\n",
    "     new_data['Date'][i] = data['Date'][i]\n",
    "     new_data['Close'][i] = data['Close'][i]\n",
    "\n",
    "# NOTE: While splitting the data into train and validation set, we cannot use random splitting since that will destroy the time component. So here we have set the last year’s data into validation and the 4 years’ data before that into train set.\n",
    "\n",
    "# splitting into train and validation (80% / 20%)\n",
    "train = new_data[:1014]\n",
    "valid = new_data[1014:]\n",
    "\n",
    "# shapes of training set\n",
    "print('\\n Shape of training set:')\n",
    "print(train.shape)\n",
    "print(train.head())\n",
    "\n",
    "# shapes of validation set\n",
    "print('\\n Shape of validation set:')\n",
    "print(valid.shape)\n",
    "print(valid.head())\n",
    "\n"
   ]
  },
  {
   "cell_type": "code",
   "execution_count": 22,
   "metadata": {},
   "outputs": [
    {
     "name": "stdout",
     "output_type": "stream",
     "text": [
      "\n",
      " RMSE value on validation set:\n",
      "11.709578364627047\n"
     ]
    }
   ],
   "source": [
    "# In the next step, we will create predictions for the validation set and check the RMSE using the actual values.\n",
    "# making predictions\n",
    "preds = []\n",
    "for i in range(0,valid.shape[0]):\n",
    "    a = train['Close'][len(train)-248+i:].sum() + sum(preds)\n",
    "    b = a/248\n",
    "    preds.append(b)\n",
    "\n",
    "# checking the results (RMSE value)\n",
    "rms=np.sqrt(np.mean(np.power((np.array(valid['Close'])-preds),2)))\n",
    "print('\\n RMSE value on validation set:')\n",
    "print(rms)"
   ]
  }
 ],
 "metadata": {
  "interpreter": {
   "hash": "cf0f850862d61844e277c446613adc741a154d123c46898264e7a59dea891c36"
  },
  "kernelspec": {
   "display_name": "Python 3.9.7 64-bit ('mllab-build': conda)",
   "language": "python",
   "name": "python3"
  },
  "language_info": {
   "codemirror_mode": {
    "name": "ipython",
    "version": 3
   },
   "file_extension": ".py",
   "mimetype": "text/x-python",
   "name": "python",
   "nbconvert_exporter": "python",
   "pygments_lexer": "ipython3",
   "version": "3.9.7"
  },
  "orig_nbformat": 4
 },
 "nbformat": 4,
 "nbformat_minor": 2
}
