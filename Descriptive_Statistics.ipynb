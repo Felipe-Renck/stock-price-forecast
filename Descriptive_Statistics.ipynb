{
 "cells": [
  {
   "cell_type": "code",
   "execution_count": 13,
   "metadata": {},
   "outputs": [],
   "source": [
    "import pandas as pd\n",
    "import numpy as np\n",
    "import dataframe_image as dfi\n",
    "import scipy"
   ]
  },
  {
   "cell_type": "code",
   "execution_count": 3,
   "metadata": {},
   "outputs": [],
   "source": [
    "df1 = pd.read_csv('C:\\\\Users\\\\I514609\\\\Documents\\\\GIT\\\\stock-price-forecasting\\\\data\\\\[ADJUSTED] SAP Dataset 2016-2021 - XETRA EUR.csv')\n",
    "df2 = pd.read_csv('C:\\\\Users\\\\I514609\\\\Documents\\\\GIT\\\\stock-price-forecasting\\\\data\\\\[ADJUSTED] EURO x BRL 2016-2021.csv')\n",
    "df3 = pd.read_csv('C:\\\\Users\\\\I514609\\\\Documents\\\\GIT\\\\stock-price-forecasting\\\\data\\\\Stock_Price_BRL 2016-2021.csv')"
   ]
  },
  {
   "cell_type": "code",
   "execution_count": 22,
   "metadata": {},
   "outputs": [],
   "source": [
    "df1.describe()\n",
    "\n",
    "dfi.export(df1.describe(),\"descriptive_analysis1.png\")"
   ]
  },
  {
   "cell_type": "code",
   "execution_count": 23,
   "metadata": {},
   "outputs": [],
   "source": [
    "df2.describe()\n",
    "dfi.export(df2.describe(),\"descriptive_analysis2.png\")"
   ]
  },
  {
   "cell_type": "code",
   "execution_count": 6,
   "metadata": {},
   "outputs": [
    {
     "name": "stdout",
     "output_type": "stream",
     "text": [
      "         Date  Close_Stock(EUR)  Close_EUR  Close_Stock(BRL)\n",
      "0  2016-01-04         70.580002     4.2891        302.724687\n",
      "1  2016-01-05         71.430000     4.3710        312.220530\n",
      "2  2016-01-06         72.050003     4.3301        311.983718\n",
      "3  2016-01-07         71.339996     4.3322        309.059131\n",
      "4  2016-01-08         71.050003     4.4145        313.650238\n",
      "99.0\n",
      "4.3736\n",
      "441.8548\n"
     ]
    }
   ],
   "source": [
    "df3.describe()\n",
    "print(df3.head())\n",
    "print(df3[\"Close_Stock(EUR)\"].median())\n",
    "print(df3[\"Close_EUR\"].median())\n",
    "print(df3[\"Close_Stock(BRL)\"].median())\n",
    "dfi.export(df3.describe(),\"descriptive_analysis3.png\")"
   ]
  },
  {
   "cell_type": "code",
   "execution_count": 7,
   "metadata": {},
   "outputs": [],
   "source": [
    "#Coefficient of Variation\n",
    "cv = lambda x: np.std(x, ddof=1) / np.mean(x) * 100 "
   ]
  },
  {
   "cell_type": "code",
   "execution_count": 10,
   "metadata": {},
   "outputs": [
    {
     "data": {
      "text/plain": [
       "Close_Stock(EUR)    17.798452\n",
       "Close_EUR           22.941959\n",
       "Close_Stock(BRL)    37.609716\n",
       "dtype: float64"
      ]
     },
     "execution_count": 10,
     "metadata": {},
     "output_type": "execute_result"
    }
   ],
   "source": [
    "df3[[\"Close_Stock(EUR)\", \"Close_EUR\", \"Close_Stock(BRL)\"]].apply(cv)"
   ]
  },
  {
   "cell_type": "code",
   "execution_count": 12,
   "metadata": {},
   "outputs": [
    {
     "data": {
      "text/plain": [
       "Close_Stock(EUR)   -0.752425\n",
       "Close_EUR          -1.134463\n",
       "Close_Stock(BRL)   -0.980817\n",
       "dtype: float64"
      ]
     },
     "execution_count": 12,
     "metadata": {},
     "output_type": "execute_result"
    }
   ],
   "source": [
    "#Curtose\n",
    "df3[[\"Close_Stock(EUR)\", \"Close_EUR\", \"Close_Stock(BRL)\"]].kurt()"
   ]
  },
  {
   "cell_type": "code",
   "execution_count": 14,
   "metadata": {},
   "outputs": [
    {
     "data": {
      "text/plain": [
       "Close_Stock(EUR)    0.096626\n",
       "Close_EUR           0.596454\n",
       "Close_Stock(BRL)    0.563961\n",
       "dtype: float64"
      ]
     },
     "execution_count": 14,
     "metadata": {},
     "output_type": "execute_result"
    }
   ],
   "source": [
    "#Skewness\n",
    "df3[[\"Close_Stock(EUR)\", \"Close_EUR\", \"Close_Stock(BRL)\"]].skew(axis = 0, skipna = True)"
   ]
  }
 ],
 "metadata": {
  "interpreter": {
   "hash": "ad2bdc8ecc057115af97d19610ffacc2b4e99fae6737bb82f5d7fb13d2f2c186"
  },
  "kernelspec": {
   "display_name": "Python 3.9.7 ('base')",
   "language": "python",
   "name": "python3"
  },
  "language_info": {
   "codemirror_mode": {
    "name": "ipython",
    "version": 3
   },
   "file_extension": ".py",
   "mimetype": "text/x-python",
   "name": "python",
   "nbconvert_exporter": "python",
   "pygments_lexer": "ipython3",
   "version": "3.9.7"
  },
  "orig_nbformat": 4
 },
 "nbformat": 4,
 "nbformat_minor": 2
}
