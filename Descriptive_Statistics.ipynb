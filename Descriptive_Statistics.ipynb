{
 "cells": [
  {
   "cell_type": "code",
   "execution_count": 12,
   "metadata": {},
   "outputs": [],
   "source": [
    "import pandas as pd\n",
    "import numpy as np\n",
    "import dataframe_image as dfi"
   ]
  },
  {
   "cell_type": "code",
   "execution_count": 17,
   "metadata": {},
   "outputs": [],
   "source": [
    "df1 = pd.read_csv('C:\\\\Users\\\\I514609\\\\Documents\\\\GIT\\\\stock-price-forecasting\\\\data\\\\[ADJUSTED] SAP Dataset 2016-2021 - XETRA EUR.csv')\n",
    "df2 = pd.read_csv('C:\\\\Users\\\\I514609\\\\Documents\\\\GIT\\\\stock-price-forecasting\\\\data\\\\[ADJUSTED] EURO x BRL 2016-2021.csv')\n",
    "df3 = pd.read_csv('C:\\\\Users\\\\I514609\\\\Documents\\\\GIT\\\\stock-price-forecasting\\\\data\\\\Stock_Price_BRL 2016-2021.csv')"
   ]
  },
  {
   "cell_type": "code",
   "execution_count": 22,
   "metadata": {},
   "outputs": [],
   "source": [
    "df1.describe()\n",
    "\n",
    "dfi.export(df1.describe(),\"descriptive_analysis1.png\")"
   ]
  },
  {
   "cell_type": "code",
   "execution_count": 23,
   "metadata": {},
   "outputs": [],
   "source": [
    "df2.describe()\n",
    "dfi.export(df2.describe(),\"descriptive_analysis2.png\")"
   ]
  },
  {
   "cell_type": "code",
   "execution_count": 24,
   "metadata": {},
   "outputs": [],
   "source": [
    "df3.describe()\n",
    "dfi.export(df3.describe(),\"descriptive_analysis3.png\")"
   ]
  }
 ],
 "metadata": {
  "interpreter": {
   "hash": "fce4f766b3eaa8bacb129fce948a465251d78737684a38777ffceca0249b2ab0"
  },
  "kernelspec": {
   "display_name": "Python 3.9.10 64-bit (windows store)",
   "language": "python",
   "name": "python3"
  },
  "language_info": {
   "codemirror_mode": {
    "name": "ipython",
    "version": 3
   },
   "file_extension": ".py",
   "mimetype": "text/x-python",
   "name": "python",
   "nbconvert_exporter": "python",
   "pygments_lexer": "ipython3",
   "version": "3.9.10"
  },
  "orig_nbformat": 4
 },
 "nbformat": 4,
 "nbformat_minor": 2
}
